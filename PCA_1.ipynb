{
 "cells": [
  {
   "cell_type": "code",
   "execution_count": 114,
   "metadata": {},
   "outputs": [],
   "source": [
    "import numpy as np\n",
    "import pandas as pd\n",
    "import os\n",
    "import cv2\n",
    "import matplotlib.pyplot as plt\n",
    "from PIL import Image\n",
    "from sklearn.decomposition import PCA"
   ]
  },
  {
   "cell_type": "code",
   "execution_count": 115,
   "metadata": {},
   "outputs": [],
   "source": [
    "# input image dimensions\n",
    "img_rows, img_cols = 931, 601\n",
    "immatrix_right = []\n",
    "listing_right = os.listdir(\"../dataset/OCT_ZEISS/right/\") \n",
    "for file in listing_right:\n",
    "    base_right = os.path.basename(\"../dataset/OCT_ZEISS/right/\" + file)\n",
    "    fileName_right = os.path.splitext(base_right)[0]    \n",
    "    im_right = Image.open(\"../dataset/OCT_ZEISS/right/\" + file) \n",
    "    gray_im_right = im_right.convert('L')\n",
    "    img_right = gray_im_right.resize((img_rows,img_cols))\n",
    "    immatrix_right.append(np.array(img_right))\n",
    "img_array_right=np.array(immatrix_right)\n",
    "\n"
   ]
  },
  {
   "cell_type": "code",
   "execution_count": 116,
   "metadata": {},
   "outputs": [
    {
     "data": {
      "text/plain": [
       "(52, 601, 931)"
      ]
     },
     "execution_count": 116,
     "metadata": {},
     "output_type": "execute_result"
    }
   ],
   "source": [
    "img_array_right.shape"
   ]
  },
  {
   "cell_type": "code",
   "execution_count": 117,
   "metadata": {},
   "outputs": [],
   "source": [
    "img_array_right = img_array_right.reshape((52,931*601))"
   ]
  },
  {
   "cell_type": "code",
   "execution_count": 118,
   "metadata": {},
   "outputs": [],
   "source": [
    "pca = PCA(n_components=2)\n",
    "pca.fit(img_array_right)\n",
    "# 分析結果を元にデータセットを主成分に変換する\n",
    "transformed_right = pca.fit_transform(img_array_right)"
   ]
  },
  {
   "cell_type": "code",
   "execution_count": 120,
   "metadata": {},
   "outputs": [],
   "source": [
    "immatrix_left = []\n",
    "listing_left = os.listdir(\"../dataset/OCT_ZEISS/left/\") \n",
    "for file in listing_left:\n",
    "    base_left = os.path.basename(\"../dataset/OCT_ZEISS/left/\" + file)\n",
    "    fileName_left = os.path.splitext(base_left)[0]\n",
    "    im_left = Image.open(\"../dataset/OCT_ZEISS/left/\" + file)\n",
    "    gray_im_left = im_left.convert('L')\n",
    "    img_left = gray_im_left.resize((img_rows,img_cols))\n",
    "    immatrix_left.append(np.array(img_left))\n",
    "img_array_left=np.array(immatrix_left)\n",
    "    "
   ]
  },
  {
   "cell_type": "code",
   "execution_count": 121,
   "metadata": {},
   "outputs": [],
   "source": [
    "img_array_left.shape\n",
    "img_array_left = img_array_left.reshape((36,931*601))"
   ]
  },
  {
   "cell_type": "code",
   "execution_count": 122,
   "metadata": {},
   "outputs": [],
   "source": [
    "pca = PCA(n_components=2)\n",
    "pca.fit(img_array_left)\n",
    "# 分析結果を元にデータセットを主成分に変換する\n",
    "transformed_left = pca.fit_transform(img_array_left)"
   ]
  },
  {
   "cell_type": "code",
   "execution_count": 128,
   "metadata": {},
   "outputs": [],
   "source": [
    "total=np.r_[transformed_left, transformed_right]"
   ]
  },
  {
   "cell_type": "code",
   "execution_count": 129,
   "metadata": {},
   "outputs": [],
   "source": [
    "from sklearn.cluster import KMeans"
   ]
  },
  {
   "cell_type": "code",
   "execution_count": 144,
   "metadata": {},
   "outputs": [],
   "source": [
    "def t(n):\n",
    "    km = KMeans(n_clusters=2,init='random',n_init=1,max_iter=n,random_state=1)\n",
    "    cluster = km.fit_predict(total)\n",
    "    %matplotlib inline\n",
    "    plt.scatter(total[:,0],total[:,1],c=cluster)\n",
    "    plt.xlabel('PC_1')\n",
    "    plt.ylabel('PC_2')\n",
    "    "
   ]
  },
  {
   "cell_type": "code",
   "execution_count": 145,
   "metadata": {},
   "outputs": [
    {
     "data": {
      "image/png": "[encoded data removed]",
      "text/plain": [
       "<matplotlib.figure.Figure at 0x1a198f1eb8>"
      ]
     },
     "metadata": {},
     "output_type": "display_data"
    }
   ],
   "source": [
    "t(10)\n"
   ]
  },
  {
   "cell_type": "code",
   "execution_count": null,
   "metadata": {},
   "outputs": [],
   "source": []
  }
 ],
 "metadata": {
  "kernelspec": {
   "display_name": "Python 3",
   "language": "python",
   "name": "python3"
  },
  "language_info": {
   "codemirror_mode": {
    "name": "ipython",
    "version": 3
   },
   "file_extension": ".py",
   "mimetype": "text/x-python",
   "name": "python",
   "nbconvert_exporter": "python",
   "pygments_lexer": "ipython3",
   "version": "3.6.3"
  }
 },
 "nbformat": 4,
 "nbformat_minor": 2
}
